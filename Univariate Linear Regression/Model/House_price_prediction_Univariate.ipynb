{
  "nbformat": 4,
  "nbformat_minor": 0,
  "metadata": {
    "colab": {
      "name": "House_price_prediction_Univariate.ipynb",
      "provenance": [],
      "collapsed_sections": []
    },
    "kernelspec": {
      "name": "python3",
      "display_name": "Python 3"
    },
    "accelerator": "GPU"
  },
  "cells": [
    {
      "cell_type": "code",
      "metadata": {
        "id": "fe8yncrTXshp",
        "outputId": "77eee51b-f94d-43d1-f2bd-740d9a8cd4f1",
        "colab": {
          "base_uri": "https://localhost:8080/",
          "height": 34
        }
      },
      "source": [
        "from google.colab import drive\n",
        "drive.mount('/gdrive')"
      ],
      "execution_count": null,
      "outputs": [
        {
          "output_type": "stream",
          "text": [
            "Mounted at /gdrive\n"
          ],
          "name": "stdout"
        }
      ]
    },
    {
      "cell_type": "code",
      "metadata": {
        "id": "3AdwylG5ZgjO"
      },
      "source": [
        "import numpy as np                             #MATHEMATICAL CALCULATIONS\n",
        "import pandas as pd                            #Manipulating data\n",
        "import matplotlib.pyplot as plt                #\n",
        "%matplotlib inline"
      ],
      "execution_count": null,
      "outputs": []
    },
    {
      "cell_type": "code",
      "metadata": {
        "id": "WX8zbkANaOC9"
      },
      "source": [
        "path = '/gdrive/My Drive/Lemalabs/Data/'"
      ],
      "execution_count": null,
      "outputs": []
    },
    {
      "cell_type": "code",
      "metadata": {
        "id": "hpSLRxk7br1o"
      },
      "source": [
        "raw_data =pd.read_csv(path + 'Chennai_house_univariate.csv')"
      ],
      "execution_count": null,
      "outputs": []
    },
    {
      "cell_type": "code",
      "metadata": {
        "id": "IzM5T0cQb9FG",
        "outputId": "428bc6e9-b980-4c47-a612-7a037cc8a949",
        "colab": {
          "base_uri": "https://localhost:8080/",
          "height": 195
        }
      },
      "source": [
        "raw_data.tail(5)"
      ],
      "execution_count": null,
      "outputs": [
        {
          "output_type": "execute_result",
          "data": {
            "text/html": [
              "<div>\n",
              "<style scoped>\n",
              "    .dataframe tbody tr th:only-of-type {\n",
              "        vertical-align: middle;\n",
              "    }\n",
              "\n",
              "    .dataframe tbody tr th {\n",
              "        vertical-align: top;\n",
              "    }\n",
              "\n",
              "    .dataframe thead th {\n",
              "        text-align: right;\n",
              "    }\n",
              "</style>\n",
              "<table border=\"1\" class=\"dataframe\">\n",
              "  <thead>\n",
              "    <tr style=\"text-align: right;\">\n",
              "      <th></th>\n",
              "      <th>Size</th>\n",
              "      <th>Price</th>\n",
              "    </tr>\n",
              "  </thead>\n",
              "  <tbody>\n",
              "    <tr>\n",
              "      <th>92</th>\n",
              "      <td>570.77</td>\n",
              "      <td>930000</td>\n",
              "    </tr>\n",
              "    <tr>\n",
              "      <th>93</th>\n",
              "      <td>552.04</td>\n",
              "      <td>860000</td>\n",
              "    </tr>\n",
              "    <tr>\n",
              "      <th>94</th>\n",
              "      <td>513.01</td>\n",
              "      <td>700000</td>\n",
              "    </tr>\n",
              "    <tr>\n",
              "      <th>95</th>\n",
              "      <td>747.64</td>\n",
              "      <td>1580000</td>\n",
              "    </tr>\n",
              "    <tr>\n",
              "      <th>96</th>\n",
              "      <td>2034.10</td>\n",
              "      <td>7710000</td>\n",
              "    </tr>\n",
              "  </tbody>\n",
              "</table>\n",
              "</div>"
            ],
            "text/plain": [
              "       Size    Price\n",
              "92   570.77   930000\n",
              "93   552.04   860000\n",
              "94   513.01   700000\n",
              "95   747.64  1580000\n",
              "96  2034.10  7710000"
            ]
          },
          "metadata": {
            "tags": []
          },
          "execution_count": 5
        }
      ]
    },
    {
      "cell_type": "code",
      "metadata": {
        "id": "vlRCaNktcqer",
        "outputId": "ae726a0c-764b-40c7-ac93-e514b114e9cf",
        "colab": {
          "base_uri": "https://localhost:8080/",
          "height": 362
        }
      },
      "source": [
        "raw_data.plot(kind= 'scatter', x = 'Size', y= 'Price', figsize = (10,5))"
      ],
      "execution_count": null,
      "outputs": [
        {
          "output_type": "execute_result",
          "data": {
            "text/plain": [
              "<matplotlib.axes._subplots.AxesSubplot at 0x7f1d0d5090f0>"
            ]
          },
          "metadata": {
            "tags": []
          },
          "execution_count": 6
        },
        {
          "output_type": "display_data",
          "data": {
            "image/png": "[encoded data removed]",
            "text/plain": [
              "<Figure size 720x360 with 1 Axes>"
            ]
          },
          "metadata": {
            "tags": [],
            "needs_background": "light"
          }
        }
      ]
    },
    {
      "cell_type": "code",
      "metadata": {
        "id": "LnlmKId7dr69",
        "outputId": "83630dbc-0528-49ba-947c-a0785cae3431",
        "colab": {
          "base_uri": "https://localhost:8080/",
          "height": 195
        }
      },
      "source": [
        "data= ((raw_data-raw_data.mean()) /(raw_data.max()-raw_data.min()))\n",
        "data.head()"
      ],
      "execution_count": null,
      "outputs": [
        {
          "output_type": "execute_result",
          "data": {
            "text/html": [
              "<div>\n",
              "<style scoped>\n",
              "    .dataframe tbody tr th:only-of-type {\n",
              "        vertical-align: middle;\n",
              "    }\n",
              "\n",
              "    .dataframe tbody tr th {\n",
              "        vertical-align: top;\n",
              "    }\n",
              "\n",
              "    .dataframe thead th {\n",
              "        text-align: right;\n",
              "    }\n",
              "</style>\n",
              "<table border=\"1\" class=\"dataframe\">\n",
              "  <thead>\n",
              "    <tr style=\"text-align: right;\">\n",
              "      <th></th>\n",
              "      <th>Size</th>\n",
              "      <th>Price</th>\n",
              "    </tr>\n",
              "  </thead>\n",
              "  <tbody>\n",
              "    <tr>\n",
              "      <th>0</th>\n",
              "      <td>-0.054820</td>\n",
              "      <td>-0.063773</td>\n",
              "    </tr>\n",
              "    <tr>\n",
              "      <th>1</th>\n",
              "      <td>-0.158528</td>\n",
              "      <td>-0.144922</td>\n",
              "    </tr>\n",
              "    <tr>\n",
              "      <th>2</th>\n",
              "      <td>0.020808</td>\n",
              "      <td>0.008636</td>\n",
              "    </tr>\n",
              "    <tr>\n",
              "      <th>3</th>\n",
              "      <td>0.066977</td>\n",
              "      <td>0.052331</td>\n",
              "    </tr>\n",
              "    <tr>\n",
              "      <th>4</th>\n",
              "      <td>-0.153242</td>\n",
              "      <td>-0.141177</td>\n",
              "    </tr>\n",
              "  </tbody>\n",
              "</table>\n",
              "</div>"
            ],
            "text/plain": [
              "       Size     Price\n",
              "0 -0.054820 -0.063773\n",
              "1 -0.158528 -0.144922\n",
              "2  0.020808  0.008636\n",
              "3  0.066977  0.052331\n",
              "4 -0.153242 -0.141177"
            ]
          },
          "metadata": {
            "tags": []
          },
          "execution_count": 7
        }
      ]
    },
    {
      "cell_type": "code",
      "metadata": {
        "id": "G89XDRUNZOIM",
        "outputId": "fa2e2da3-8a9c-4929-de69-6b28bb7873df",
        "colab": {
          "base_uri": "https://localhost:8080/",
          "height": 351
        }
      },
      "source": [
        "data.plot(kind = 'scatter', x = 'Size', y = 'Price', figsize=(10,5))"
      ],
      "execution_count": null,
      "outputs": [
        {
          "output_type": "execute_result",
          "data": {
            "text/plain": [
              "<matplotlib.axes._subplots.AxesSubplot at 0x7f1d0cd147f0>"
            ]
          },
          "metadata": {
            "tags": []
          },
          "execution_count": 8
        },
        {
          "output_type": "display_data",
          "data": {
            "image/png": "[encoded data removed]",
            "text/plain": [
              "<Figure size 720x360 with 1 Axes>"
            ]
          },
          "metadata": {
            "tags": [],
            "needs_background": "light"
          }
        }
      ]
    },
    {
      "cell_type": "code",
      "metadata": {
        "id": "sa2dxyWiZTMR",
        "outputId": "9b56c4cb-67a2-4b3f-9e3c-c76021f90ab0",
        "colab": {
          "base_uri": "https://localhost:8080/",
          "height": 34
        }
      },
      "source": [
        "data.shape"
      ],
      "execution_count": null,
      "outputs": [
        {
          "output_type": "execute_result",
          "data": {
            "text/plain": [
              "(97, 2)"
            ]
          },
          "metadata": {
            "tags": []
          },
          "execution_count": 9
        }
      ]
    },
    {
      "cell_type": "code",
      "metadata": {
        "id": "lQqi3ejWZWGV",
        "outputId": "73394771-e2b1-4480-927b-ca2fe28c0519",
        "colab": {
          "base_uri": "https://localhost:8080/",
          "height": 195
        }
      },
      "source": [
        "data.insert(0,'ones',1)\n",
        "data.head()"
      ],
      "execution_count": null,
      "outputs": [
        {
          "output_type": "execute_result",
          "data": {
            "text/html": [
              "<div>\n",
              "<style scoped>\n",
              "    .dataframe tbody tr th:only-of-type {\n",
              "        vertical-align: middle;\n",
              "    }\n",
              "\n",
              "    .dataframe tbody tr th {\n",
              "        vertical-align: top;\n",
              "    }\n",
              "\n",
              "    .dataframe thead th {\n",
              "        text-align: right;\n",
              "    }\n",
              "</style>\n",
              "<table border=\"1\" class=\"dataframe\">\n",
              "  <thead>\n",
              "    <tr style=\"text-align: right;\">\n",
              "      <th></th>\n",
              "      <th>ones</th>\n",
              "      <th>Size</th>\n",
              "      <th>Price</th>\n",
              "    </tr>\n",
              "  </thead>\n",
              "  <tbody>\n",
              "    <tr>\n",
              "      <th>0</th>\n",
              "      <td>1</td>\n",
              "      <td>-0.054820</td>\n",
              "      <td>-0.063773</td>\n",
              "    </tr>\n",
              "    <tr>\n",
              "      <th>1</th>\n",
              "      <td>1</td>\n",
              "      <td>-0.158528</td>\n",
              "      <td>-0.144922</td>\n",
              "    </tr>\n",
              "    <tr>\n",
              "      <th>2</th>\n",
              "      <td>1</td>\n",
              "      <td>0.020808</td>\n",
              "      <td>0.008636</td>\n",
              "    </tr>\n",
              "    <tr>\n",
              "      <th>3</th>\n",
              "      <td>1</td>\n",
              "      <td>0.066977</td>\n",
              "      <td>0.052331</td>\n",
              "    </tr>\n",
              "    <tr>\n",
              "      <th>4</th>\n",
              "      <td>1</td>\n",
              "      <td>-0.153242</td>\n",
              "      <td>-0.141177</td>\n",
              "    </tr>\n",
              "  </tbody>\n",
              "</table>\n",
              "</div>"
            ],
            "text/plain": [
              "   ones      Size     Price\n",
              "0     1 -0.054820 -0.063773\n",
              "1     1 -0.158528 -0.144922\n",
              "2     1  0.020808  0.008636\n",
              "3     1  0.066977  0.052331\n",
              "4     1 -0.153242 -0.141177"
            ]
          },
          "metadata": {
            "tags": []
          },
          "execution_count": 10
        }
      ]
    },
    {
      "cell_type": "code",
      "metadata": {
        "id": "JK-UWX6mZYvK",
        "outputId": "f8c0a98e-4b7b-4217-ac2f-e8899de5fe8b",
        "colab": {
          "base_uri": "https://localhost:8080/",
          "height": 34
        }
      },
      "source": [
        "cols = data.shape[1]\n",
        "cols"
      ],
      "execution_count": null,
      "outputs": [
        {
          "output_type": "execute_result",
          "data": {
            "text/plain": [
              "3"
            ]
          },
          "metadata": {
            "tags": []
          },
          "execution_count": 11
        }
      ]
    },
    {
      "cell_type": "code",
      "metadata": {
        "id": "QPtheflJZanD"
      },
      "source": [
        "x = data.iloc[: , 0:cols-1]\n",
        "y = data.iloc[: , cols-1:cols]"
      ],
      "execution_count": null,
      "outputs": []
    },
    {
      "cell_type": "code",
      "metadata": {
        "id": "84XutpGQZdbB",
        "outputId": "b9e63240-81fe-450e-f9b1-87180f16ddca",
        "colab": {
          "base_uri": "https://localhost:8080/",
          "height": 402
        }
      },
      "source": [
        "x"
      ],
      "execution_count": null,
      "outputs": [
        {
          "output_type": "execute_result",
          "data": {
            "text/html": [
              "<div>\n",
              "<style scoped>\n",
              "    .dataframe tbody tr th:only-of-type {\n",
              "        vertical-align: middle;\n",
              "    }\n",
              "\n",
              "    .dataframe tbody tr th {\n",
              "        vertical-align: top;\n",
              "    }\n",
              "\n",
              "    .dataframe thead th {\n",
              "        text-align: right;\n",
              "    }\n",
              "</style>\n",
              "<table border=\"1\" class=\"dataframe\">\n",
              "  <thead>\n",
              "    <tr style=\"text-align: right;\">\n",
              "      <th></th>\n",
              "      <th>ones</th>\n",
              "      <th>Size</th>\n",
              "    </tr>\n",
              "  </thead>\n",
              "  <tbody>\n",
              "    <tr>\n",
              "      <th>0</th>\n",
              "      <td>1</td>\n",
              "      <td>-0.054820</td>\n",
              "    </tr>\n",
              "    <tr>\n",
              "      <th>1</th>\n",
              "      <td>1</td>\n",
              "      <td>-0.158528</td>\n",
              "    </tr>\n",
              "    <tr>\n",
              "      <th>2</th>\n",
              "      <td>1</td>\n",
              "      <td>0.020808</td>\n",
              "    </tr>\n",
              "    <tr>\n",
              "      <th>3</th>\n",
              "      <td>1</td>\n",
              "      <td>0.066977</td>\n",
              "    </tr>\n",
              "    <tr>\n",
              "      <th>4</th>\n",
              "      <td>1</td>\n",
              "      <td>-0.153242</td>\n",
              "    </tr>\n",
              "    <tr>\n",
              "      <th>...</th>\n",
              "      <td>...</td>\n",
              "      <td>...</td>\n",
              "    </tr>\n",
              "    <tr>\n",
              "      <th>92</th>\n",
              "      <td>1</td>\n",
              "      <td>-0.142762</td>\n",
              "    </tr>\n",
              "    <tr>\n",
              "      <th>93</th>\n",
              "      <td>1</td>\n",
              "      <td>-0.153667</td>\n",
              "    </tr>\n",
              "    <tr>\n",
              "      <th>94</th>\n",
              "      <td>1</td>\n",
              "      <td>-0.176390</td>\n",
              "    </tr>\n",
              "    <tr>\n",
              "      <th>95</th>\n",
              "      <td>1</td>\n",
              "      <td>-0.039788</td>\n",
              "    </tr>\n",
              "    <tr>\n",
              "      <th>96</th>\n",
              "      <td>1</td>\n",
              "      <td>0.709195</td>\n",
              "    </tr>\n",
              "  </tbody>\n",
              "</table>\n",
              "<p>97 rows × 2 columns</p>\n",
              "</div>"
            ],
            "text/plain": [
              "    ones      Size\n",
              "0      1 -0.054820\n",
              "1      1 -0.158528\n",
              "2      1  0.020808\n",
              "3      1  0.066977\n",
              "4      1 -0.153242\n",
              "..   ...       ...\n",
              "92     1 -0.142762\n",
              "93     1 -0.153667\n",
              "94     1 -0.176390\n",
              "95     1 -0.039788\n",
              "96     1  0.709195\n",
              "\n",
              "[97 rows x 2 columns]"
            ]
          },
          "metadata": {
            "tags": []
          },
          "execution_count": 13
        }
      ]
    },
    {
      "cell_type": "code",
      "metadata": {
        "id": "3VpoX5VgZeEL",
        "outputId": "887c5dca-763f-44a2-af25-9d001b38ee7c",
        "colab": {
          "base_uri": "https://localhost:8080/",
          "height": 402
        }
      },
      "source": [
        "y"
      ],
      "execution_count": null,
      "outputs": [
        {
          "output_type": "execute_result",
          "data": {
            "text/html": [
              "<div>\n",
              "<style scoped>\n",
              "    .dataframe tbody tr th:only-of-type {\n",
              "        vertical-align: middle;\n",
              "    }\n",
              "\n",
              "    .dataframe tbody tr th {\n",
              "        vertical-align: top;\n",
              "    }\n",
              "\n",
              "    .dataframe thead th {\n",
              "        text-align: right;\n",
              "    }\n",
              "</style>\n",
              "<table border=\"1\" class=\"dataframe\">\n",
              "  <thead>\n",
              "    <tr style=\"text-align: right;\">\n",
              "      <th></th>\n",
              "      <th>Price</th>\n",
              "    </tr>\n",
              "  </thead>\n",
              "  <tbody>\n",
              "    <tr>\n",
              "      <th>0</th>\n",
              "      <td>-0.063773</td>\n",
              "    </tr>\n",
              "    <tr>\n",
              "      <th>1</th>\n",
              "      <td>-0.144922</td>\n",
              "    </tr>\n",
              "    <tr>\n",
              "      <th>2</th>\n",
              "      <td>0.008636</td>\n",
              "    </tr>\n",
              "    <tr>\n",
              "      <th>3</th>\n",
              "      <td>0.052331</td>\n",
              "    </tr>\n",
              "    <tr>\n",
              "      <th>4</th>\n",
              "      <td>-0.141177</td>\n",
              "    </tr>\n",
              "    <tr>\n",
              "      <th>...</th>\n",
              "      <td>...</td>\n",
              "    </tr>\n",
              "    <tr>\n",
              "      <th>92</th>\n",
              "      <td>-0.132438</td>\n",
              "    </tr>\n",
              "    <tr>\n",
              "      <th>93</th>\n",
              "      <td>-0.141177</td>\n",
              "    </tr>\n",
              "    <tr>\n",
              "      <th>94</th>\n",
              "      <td>-0.161152</td>\n",
              "    </tr>\n",
              "    <tr>\n",
              "      <th>95</th>\n",
              "      <td>-0.051289</td>\n",
              "    </tr>\n",
              "    <tr>\n",
              "      <th>96</th>\n",
              "      <td>0.714004</td>\n",
              "    </tr>\n",
              "  </tbody>\n",
              "</table>\n",
              "<p>97 rows × 1 columns</p>\n",
              "</div>"
            ],
            "text/plain": [
              "       Price\n",
              "0  -0.063773\n",
              "1  -0.144922\n",
              "2   0.008636\n",
              "3   0.052331\n",
              "4  -0.141177\n",
              "..       ...\n",
              "92 -0.132438\n",
              "93 -0.141177\n",
              "94 -0.161152\n",
              "95 -0.051289\n",
              "96  0.714004\n",
              "\n",
              "[97 rows x 1 columns]"
            ]
          },
          "metadata": {
            "tags": []
          },
          "execution_count": 14
        }
      ]
    },
    {
      "cell_type": "code",
      "metadata": {
        "id": "OXLrHMyCZh64"
      },
      "source": [
        "x = np.matrix(x)"
      ],
      "execution_count": null,
      "outputs": []
    },
    {
      "cell_type": "code",
      "metadata": {
        "id": "osHhFYhUZij8"
      },
      "source": [
        "y = np.matrix(y)"
      ],
      "execution_count": null,
      "outputs": []
    },
    {
      "cell_type": "code",
      "metadata": {
        "id": "QB7_P3blZk3K"
      },
      "source": [
        "theta = np.matrix([0,0])"
      ],
      "execution_count": null,
      "outputs": []
    },
    {
      "cell_type": "code",
      "metadata": {
        "id": "25WKmV-iZmur",
        "outputId": "5a3a0d5a-9c73-4c23-d28c-e0f4300ede20",
        "colab": {
          "base_uri": "https://localhost:8080/",
          "height": 34
        }
      },
      "source": [
        "x.shape, theta.shape, y.shape"
      ],
      "execution_count": null,
      "outputs": [
        {
          "output_type": "execute_result",
          "data": {
            "text/plain": [
              "((97, 2), (1, 2), (97, 1))"
            ]
          },
          "metadata": {
            "tags": []
          },
          "execution_count": 18
        }
      ]
    },
    {
      "cell_type": "code",
      "metadata": {
        "id": "Xu0MXb9qZo00"
      },
      "source": [
        "def computeError(x,y,theta):\n",
        "  inner = np.power(((x*theta.T)-y),2)\n",
        "  return np.sum(inner)/(2*len(x))"
      ],
      "execution_count": null,
      "outputs": []
    },
    {
      "cell_type": "code",
      "metadata": {
        "id": "34mklTHpZq_4",
        "outputId": "6bac140c-0346-48ed-d230-397209261018",
        "colab": {
          "base_uri": "https://localhost:8080/",
          "height": 34
        }
      },
      "source": [
        "computeError(x,y,theta)"
      ],
      "execution_count": null,
      "outputs": [
        {
          "output_type": "execute_result",
          "data": {
            "text/plain": [
              "0.024346853685025285"
            ]
          },
          "metadata": {
            "tags": []
          },
          "execution_count": 21
        }
      ]
    },
    {
      "cell_type": "code",
      "metadata": {
        "id": "Ah8NSTg5F-NQ",
        "outputId": "397fecc1-159b-4498-80b5-26ef81f929d1",
        "colab": {
          "base_uri": "https://localhost:8080/",
          "height": 34
        }
      },
      "source": [
        "x.shape,y.shape"
      ],
      "execution_count": null,
      "outputs": [
        {
          "output_type": "execute_result",
          "data": {
            "text/plain": [
              "((97, 2), (97, 1))"
            ]
          },
          "metadata": {
            "tags": []
          },
          "execution_count": 22
        }
      ]
    },
    {
      "cell_type": "code",
      "metadata": {
        "id": "lHd1mYjvZtZx"
      },
      "source": [
        "learning_rate = 1\n",
        "iters = 150\n",
        "def gradientDescent(x,y,theta,learning_rate,iters):\n",
        "  temp = np.matrix(np.zeros(theta.shape))\n",
        "  parameters = theta.shape[1]\n",
        "  cost = [] #list to track cost\n",
        "\n",
        "  for i in range(iters):\n",
        "    error = (x*theta.T)-y\n",
        "    for j in range(parameters):\n",
        "      term = np.multiply(error, x[:,j])\n",
        "      temp[0,j] = theta[0,j] - ((learning_rate/len(x))*np.sum(term))\n",
        "    \n",
        "    theta = temp\n",
        "    cost_iter = computeError(x,y,theta)\n",
        "    cost.append(cost_iter)\n",
        "  return theta, cost"
      ],
      "execution_count": null,
      "outputs": []
    },
    {
      "cell_type": "code",
      "metadata": {
        "id": "qFodXdLsZ1qg"
      },
      "source": [
        "new_theta,cost = gradientDescent(x,y,theta,learning_rate,iters)"
      ],
      "execution_count": null,
      "outputs": []
    },
    {
      "cell_type": "code",
      "metadata": {
        "id": "5OQ7lb6laem-",
        "outputId": "d604b4fc-46f0-4ca0-816c-a4d25fd75241",
        "colab": {
          "base_uri": "https://localhost:8080/",
          "height": 34
        }
      },
      "source": [
        "print(new_theta)"
      ],
      "execution_count": null,
      "outputs": [
        {
          "output_type": "stream",
          "text": [
            "[[2.73120587e-16 9.82955251e-01]]\n"
          ],
          "name": "stdout"
        }
      ]
    },
    {
      "cell_type": "code",
      "metadata": {
        "id": "yI5nO3DwbFPC",
        "outputId": "3879e0a1-8d10-4019-e958-0c289398d287",
        "colab": {
          "base_uri": "https://localhost:8080/",
          "height": 54
        }
      },
      "source": [
        "print(cost)"
      ],
      "execution_count": null,
      "outputs": [
        {
          "output_type": "stream",
          "text": [
            "[0.0219673183380595, 0.019820870807582117, 0.017884678934253863, 0.016138147087044627, 0.014562697083697286, 0.01314157057116722, 0.011859650763921774, 0.01070330164389687, 0.009660222911651065, 0.008719319145805603, 0.007870581778995266, 0.0071049826348863416, 0.006414377893795337, 0.005791421465372894, 0.005229486846882187, 0.0047225966358638285, 0.004265358947400457, 0.0038529100596397235, 0.0034808626774854535, 0.0031452592641283447, 0.002842529943995028, 0.0025694545293213898, 0.002323128266419802, 0.0021009309372769366, 0.0019004989878101933, 0.0017197003863058098, 0.0015566119446032342, 0.0014094988607869883, 0.001276796265777864, 0.0011570925775311307, 0.0010491144857772655, 0.0009517134075851379, 0.0008638532696729556, 0.0007845994875051558, 0.0007131090239438623, 0.0006486214217069421, 0.0005904507142432565, 0.0005379781289795985, 0.0004906455053223957, 0.00044794935740025273, 0.0004094355183916245, 0.0003746943094683421, 0.0003433561819661532, 0.0003150877864272378, 0.0002895884267003767, 0.0002665868613803793, 0.00024583841856309636, 0.00022712239322512592, 0.00021023969954366207, 0.00019501075318378034, 0.00018127356102665503, 0.00016888199801879563, 0.0001577042528128291, 0.00014762142566582116, 0.00013852626368072066, 0.0001303220199374605, 0.00012292142437807504, 0.00011624575549895528, 0.000110224002975656, 0.00010479211231294182, 9.989230348527596e-05, 9.547245632000234e-05, 9.148555608543095e-05, 8.788919338644114e-05, 8.464511304790329e-05, 8.171880718730574e-05, 7.907914814802729e-05, 7.669805738869626e-05, 7.455020680655392e-05, 7.261274931774106e-05, 7.086507582864155e-05, 6.928859601314252e-05, 6.786654056389665e-05, 6.658378281409998e-05, 6.542667783233839e-05, 6.438291727892948e-05, 6.344139847983662e-05, 6.259210632547208e-05, 6.182600673812445e-05, 6.113495057480295e-05, 6.051158694329649e-05, 5.9949285009373684e-05, 5.944206346337304e-05, 5.898452689590565e-05, 5.857180840588797e-05, 5.8199517830414734e-05, 5.786369504578433e-05, 5.756076784293053e-05, 5.728751392917425e-05, 5.704102665210005e-05, 5.681868408095699e-05, 5.6618121116696586e-05, 5.6437204333976384e-05, 5.6274009287520375e-05, 5.6126800041438674e-05, 5.599401070375631e-05, 5.5874228769730557e-05, 5.576618009677717e-05, 5.566871535117971e-05, 5.558079778241444e-05, 5.5501492195043155e-05, 5.5429955000866535e-05, 5.5365425245520196e-05, 5.530721651406255e-05, 5.52547096294521e-05, 5.520734606624692e-05, 5.5164622009465814e-05, 5.512608299541552e-05, 5.509131907747639e-05, 5.505996046542409e-05, 5.5031673591902907e-05, 5.500615756420788e-05, 5.498314096363356e-05, 5.496237895834298e-05, 5.4943650699046287e-05, 5.492675696978574e-05, 5.4911518068838924e-05, 5.489777189719823e-05, 5.488537223429377e-05, 5.487418718261804e-05, 5.4864097764707776e-05, 5.4854996657558905e-05, 5.4846787051011423e-05, 5.4839381617962275e-05, 5.483270158545061e-05, 5.4826675896735167e-05, 5.482124045545072e-05, 5.4816337443803137e-05, 5.4811914707550705e-05, 5.480792520123008e-05, 5.4804326487724665e-05, 5.480108028685332e-05, 5.4798152068177135e-05, 5.479551068369243e-05, 5.479312803650407e-05, 5.479097878195315e-05, 5.478904005802156e-05, 5.478729124214428e-05, 5.478571373184353e-05, 5.4784290746850365e-05, 5.4783007150610284e-05, 5.47818492892727e-05, 5.478080484645243e-05, 5.477986271221807e-05, 5.4779012864913485e-05, 5.4778246264555795e-05, 5.477755475667518e-05, 5.477693098557441e-05, 5.4776368316084946e-05, 5.4775860762987386e-05]\n"
          ],
          "name": "stdout"
        }
      ]
    },
    {
      "cell_type": "code",
      "metadata": {
        "id": "5q490-7ibOJO",
        "outputId": "c59286ff-8036-41d4-a1b4-8c9a6e4fd5e2",
        "colab": {
          "base_uri": "https://localhost:8080/",
          "height": 34
        }
      },
      "source": [
        "computeError(x,y,new_theta)"
      ],
      "execution_count": null,
      "outputs": [
        {
          "output_type": "execute_result",
          "data": {
            "text/plain": [
              "5.4775860762987386e-05"
            ]
          },
          "metadata": {
            "tags": []
          },
          "execution_count": 27
        }
      ]
    },
    {
      "cell_type": "markdown",
      "metadata": {
        "id": "HnXZ391Pdnfz"
      },
      "source": [
        "***PLOT Between model price and actual price***"
      ]
    },
    {
      "cell_type": "code",
      "metadata": {
        "id": "8sceCPbpdwVm"
      },
      "source": [
        "model_price= x*new_theta.T"
      ],
      "execution_count": null,
      "outputs": []
    },
    {
      "cell_type": "code",
      "metadata": {
        "id": "c06-SygTeBJ3",
        "outputId": "9921f863-da0b-4742-833c-1d8f7e2b1a27",
        "colab": {
          "base_uri": "https://localhost:8080/",
          "height": 530
        }
      },
      "source": [
        "fig,ax = plt.subplots(figsize=(12,8))\n",
        "ax.plot(data.Size,model_price,'r',label= 'Prediction')\n",
        "ax.scatter(data.Size,data.Price,label= 'Training data')\n",
        "ax.legend()\n",
        "ax.set_xlabel('Size')\n",
        "ax.set_ylabel('Price')\n",
        "ax.set_title('Predicted price vs Actual price')"
      ],
      "execution_count": null,
      "outputs": [
        {
          "output_type": "execute_result",
          "data": {
            "text/plain": [
              "Text(0.5, 1.0, 'Predicted price vs Actual price')"
            ]
          },
          "metadata": {
            "tags": []
          },
          "execution_count": 29
        },
        {
          "output_type": "display_data",
          "data": {
            "image/png": "[encoded data removed]",
            "text/plain": [
              "<Figure size 864x576 with 1 Axes>"
            ]
          },
          "metadata": {
            "tags": [],
            "needs_background": "light"
          }
        }
      ]
    },
    {
      "cell_type": "code",
      "metadata": {
        "id": "LQ7138VxezWM",
        "outputId": "06398b87-9ebb-4cc9-d63f-8865434a25aa",
        "colab": {
          "base_uri": "https://localhost:8080/",
          "height": 530
        }
      },
      "source": [
        "fig,ax = plt.subplots(figsize=(12,8))\n",
        "ax.plot(np.arange(iters),cost,'r',label= 'Error Vs Cost')\n",
        "ax.legend(loc=3)\n",
        "ax.set_xlabel('Iterations')\n",
        "ax.set_ylabel('cost')\n",
        "ax.set_title('Error Vs Iterations')"
      ],
      "execution_count": null,
      "outputs": [
        {
          "output_type": "execute_result",
          "data": {
            "text/plain": [
              "Text(0.5, 1.0, 'Error Vs Iterations')"
            ]
          },
          "metadata": {
            "tags": []
          },
          "execution_count": 30
        },
        {
          "output_type": "display_data",
          "data": {
            "image/png": "[encoded data removed]",
            "text/plain": [
              "<Figure size 864x576 with 1 Axes>"
            ]
          },
          "metadata": {
            "tags": [],
            "needs_background": "light"
          }
        }
      ]
    },
    {
      "cell_type": "markdown",
      "metadata": {
        "id": "Cwqtz8C1i_Bt"
      },
      "source": [
        "***Error and Accuracy calculations***"
      ]
    },
    {
      "cell_type": "code",
      "metadata": {
        "id": "yhzMrD6qjMq-",
        "outputId": "b3ce6916-e91b-4f9e-a5ec-ffdad8be787d",
        "colab": {
          "base_uri": "https://localhost:8080/",
          "height": 50
        }
      },
      "source": [
        "from sklearn.metrics import mean_absolute_error\n",
        "\n",
        "Error = mean_absolute_error(model_price,y)\n",
        "Accuracy = 1-Error\n",
        "\n",
        "print('Error = {} %'.format(round(Error*100,2)))\n",
        "print('Accuracy = {} %'.format(round(Accuracy*100,2)))"
      ],
      "execution_count": null,
      "outputs": [
        {
          "output_type": "stream",
          "text": [
            "Error = 0.94 %\n",
            "Accuracy = 99.06 %\n"
          ],
          "name": "stdout"
        }
      ]
    },
    {
      "cell_type": "markdown",
      "metadata": {
        "id": "OUD_9lJPk2Vy"
      },
      "source": [
        "***Prediction***\n"
      ]
    },
    {
      "cell_type": "code",
      "metadata": {
        "id": "eZMKF1Gnk5te"
      },
      "source": [
        "def predict(new_theta,accuracy):\n",
        "#get input from the user\n",
        "  size= float(input(\"Enter the size of the House in sqft.:\"))\n",
        "#Mean Normalisation\n",
        "  size= (size - raw_data.Size.mean())/(raw_data.Size.max()-raw_data.Size.min())\n",
        "#Model\n",
        "  price = (new_theta[0,0] + (new_theta[0,1]*size))\n",
        "#Reverse Mean Normalisation\n",
        "  Predicted_Price = (price* (raw_data.Price.max()-raw_data.Price.min())) + (raw_data.Price.mean())\n",
        "\n",
        "  Price_at_max_accuracy = (Predicted_Price*(1/accuracy))\n",
        "  Price_range = Price_at_max_accuracy - Predicted_Price\n",
        "  return Predicted_Price, Price_range"
      ],
      "execution_count": null,
      "outputs": []
    },
    {
      "cell_type": "code",
      "metadata": {
        "id": "w13lkbUbpKX0",
        "outputId": "21fee6e1-b6fb-4b8e-d18e-dc6e2b6ed410",
        "colab": {
          "base_uri": "https://localhost:8080/",
          "height": 50
        }
      },
      "source": [
        "Predicted_price, Price_range = predict(new_theta,Accuracy)\n",
        "print(\"Your house cost is\",str(round(Predicted_price)),'(+ or -)',str(Price_range))"
      ],
      "execution_count": null,
      "outputs": [
        {
          "output_type": "stream",
          "text": [
            "Enter the size of the House in sqft.:1200\n",
            "Your house cost is 3751161.0 (+ or -) 35691.47797277197\n"
          ],
          "name": "stdout"
        }
      ]
    }
  ]
}